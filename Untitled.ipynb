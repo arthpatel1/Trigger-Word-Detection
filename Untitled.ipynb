{
 "cells": [
  {
   "cell_type": "code",
   "execution_count": 2,
   "metadata": {},
   "outputs": [
    {
     "name": "stdout",
     "output_type": "stream",
     "text": [
      "Trigger word detection - v1.ipynb\n",
      "Trigger_word_detection_v1a.ipynb\n",
      "Untitled.ipynb\n",
      "XY_dev/\n",
      "XY_dev/Y_dev.npy\n",
      "XY_dev/X_dev.npy\n",
      "XY_train/\n",
      "XY_train/Y.npy\n",
      "XY_train/X.npy\n",
      "__pycache__/\n",
      "__pycache__/td_utils.cpython-36.pyc\n",
      "audio_examples/\n",
      "audio_examples/train_reference.wav\n",
      "audio_examples/chime.wav\n",
      "audio_examples/example_train.wav\n",
      "audio_examples/my_audio.wav\n",
      "audio_examples/insert_reference.wav\n",
      "chime_output.wav\n",
      "images/\n",
      "images/train_label.png\n",
      "images/model.png\n",
      "images/sound.png\n",
      "images/spectrogram.png\n",
      "images/ones_reference.png\n",
      "images/label_diagram.png\n",
      "images/train_reference.png\n",
      "insert_test.wav\n",
      "models/\n",
      "models/tr_model.h5\n",
      "notebook.tar.gz\n",
      "tar: notebook.tar.gz: file changed as we read it\n",
      "raw_data/\n",
      "raw_data/activates/\n",
      "raw_data/activates/3_act2.wav\n",
      "raw_data/activates/2_act3.wav\n",
      "raw_data/activates/1_act2.wav\n",
      "raw_data/activates/2.wav\n",
      "raw_data/activates/3_act3.wav\n",
      "raw_data/activates/4_act2.wav\n",
      "raw_data/activates/1.wav\n",
      "raw_data/activates/1_act3.wav\n",
      "raw_data/activates/2_act2.wav\n",
      "raw_data/activates/3.wav\n",
      "raw_data/negatives/\n",
      "raw_data/negatives/4.wav\n",
      "raw_data/negatives/3_2.wav\n",
      "raw_data/negatives/1_0.wav\n",
      "raw_data/negatives/2.wav\n",
      "raw_data/negatives/2_1.wav\n",
      "raw_data/negatives/5.wav\n",
      "raw_data/negatives/5_1.wav\n",
      "raw_data/negatives/1.wav\n",
      "raw_data/negatives/3.wav\n",
      "raw_data/negatives/4_0.wav\n",
      "raw_data/backgrounds/\n",
      "raw_data/backgrounds/2.wav\n",
      "raw_data/backgrounds/1.wav\n",
      "raw_data/dev/\n",
      "raw_data/dev/2.wav\n",
      "raw_data/dev/1.wav\n",
      "td_utils.py\n",
      "train.wav\n"
     ]
    }
   ],
   "source": [
    "!tar chvfz notebook.tar.gz *"
   ]
  },
  {
   "cell_type": "code",
   "execution_count": null,
   "metadata": {
    "collapsed": true
   },
   "outputs": [],
   "source": []
  }
 ],
 "metadata": {
  "kernelspec": {
   "display_name": "Python 3",
   "language": "python",
   "name": "python3"
  },
  "language_info": {
   "codemirror_mode": {
    "name": "ipython",
    "version": 3
   },
   "file_extension": ".py",
   "mimetype": "text/x-python",
   "name": "python",
   "nbconvert_exporter": "python",
   "pygments_lexer": "ipython3",
   "version": "3.6.0"
  }
 },
 "nbformat": 4,
 "nbformat_minor": 2
}
